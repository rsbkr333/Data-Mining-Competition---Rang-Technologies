{
 "cells": [
  {
   "cell_type": "markdown",
   "metadata": {},
   "source": [
    "# RANG COMPETITION SCRIPT\n",
    "## Authors: Aditya Samalla and Srinivasa Rudraraju\n",
    "## Arizona State University - Class of 2016\n",
    "<li> Exploratory Data Analysis\n",
    "<li> Preprocessing \n",
    "<li> Standadization \n",
    "<li> Principal Component Analysis \n",
    "<li> Build and Score Machine Learning Models\n",
    "<li> Finalize Machine Learning Model"
   ]
  },
  {
   "cell_type": "code",
   "execution_count": 1,
   "metadata": {
    "collapsed": false
   },
   "outputs": [],
   "source": [
    "import pandas as pd\n",
    "import numpy as np\n",
    "from sklearn import preprocessing\n",
    "from sklearn.preprocessing import LabelEncoder\n",
    "cust_status = preprocessing.LabelEncoder()"
   ]
  },
  {
   "cell_type": "code",
   "execution_count": 2,
   "metadata": {
    "collapsed": true
   },
   "outputs": [],
   "source": [
    "#Load Datasets\n",
    "df_train = pd.read_csv(\"Train.csv\")\n",
    "df_test = pd.read_csv(\"Test.csv\")"
   ]
  },
  {
   "cell_type": "code",
   "execution_count": 3,
   "metadata": {
    "collapsed": false
   },
   "outputs": [
    {
     "name": "stdout",
     "output_type": "stream",
     "text": [
      "<class 'pandas.core.frame.DataFrame'>\n",
      "Int64Index: 25766 entries, 0 to 25765\n",
      "Columns: 257 entries, Cust_id to Active_Customer\n",
      "dtypes: float64(234), int64(17), object(6)\n",
      "memory usage: 50.7+ MB\n"
     ]
    }
   ],
   "source": [
    "#Training Data\n",
    "df_train.info()"
   ]
  },
  {
   "cell_type": "code",
   "execution_count": 4,
   "metadata": {
    "collapsed": false,
    "scrolled": true
   },
   "outputs": [
    {
     "data": {
      "text/plain": [
       "['Trans25', 'Trans27', 'Cust_id', 'Cust_status', 'Trans26', 'Trans24']"
      ]
     },
     "execution_count": 4,
     "metadata": {},
     "output_type": "execute_result"
    }
   ],
   "source": [
    "#Total Training Columns\n",
    "cols = df_train.columns\n",
    "#Columns with Numeric Values\n",
    "num_cols = df_train._get_numeric_data().columns\n",
    "#Categorical columns that need to be encoded\n",
    "list(set(cols)-set(num_cols))"
   ]
  },
  {
   "cell_type": "code",
   "execution_count": 5,
   "metadata": {
    "collapsed": false
   },
   "outputs": [],
   "source": [
    "#Encode categorical features into numerical\n",
    "cat_encoder = LabelEncoder()\n",
    "cat1_encoder = LabelEncoder()\n",
    "cat2_encoder = LabelEncoder()\n",
    "cat3_encoder = LabelEncoder()\n",
    "cat4_encoder = LabelEncoder()\n",
    "cat_encoder.fit(df_train[\"Trans24\"])\n",
    "cat1_encoder.fit(df_train[\"Trans25\"])\n",
    "cat2_encoder.fit(df_train[\"Trans26\"])\n",
    "cat3_encoder.fit(df_train[\"Trans27\"])\n",
    "cat4_encoder.fit(df_train[\"Cust_status\"])\n",
    "df_train[\"Trans24\"] = cat_encoder.transform(df_train[\"Trans24\"])\n",
    "df_train[\"Trans25\"] = cat1_encoder.transform(df_train[\"Trans25\"])\n",
    "df_train[\"Trans26\"] = cat2_encoder.transform(df_train[\"Trans26\"])\n",
    "df_train[\"Trans27\"] = cat3_encoder.transform(df_train[\"Trans27\"])\n",
    "df_train[\"Cust_status\"] = cat4_encoder.transform(df_train[\"Cust_status\"])\n",
    "cat_encoder = LabelEncoder()\n",
    "cat1_encoder = LabelEncoder()\n",
    "cat2_encoder = LabelEncoder()\n",
    "cat3_encoder = LabelEncoder()\n",
    "cat4_encoder = LabelEncoder()\n",
    "cat_encoder.fit(df_test[\"Trans24\"])\n",
    "cat1_encoder.fit(df_test[\"Trans25\"])\n",
    "cat2_encoder.fit(df_test[\"Trans26\"])\n",
    "cat3_encoder.fit(df_test[\"Trans27\"])\n",
    "cat4_encoder.fit(df_test[\"Cust_status\"])\n",
    "df_test[\"Trans24\"] = cat_encoder.transform(df_test[\"Trans24\"])\n",
    "df_test[\"Trans25\"] = cat1_encoder.transform(df_test[\"Trans25\"])\n",
    "df_test[\"Trans26\"] = cat2_encoder.transform(df_test[\"Trans26\"])\n",
    "df_test[\"Trans27\"] = cat3_encoder.transform(df_test[\"Trans27\"])\n",
    "df_test[\"Cust_status\"] = cat4_encoder.transform(df_test[\"Cust_status\"])"
   ]
  },
  {
   "cell_type": "markdown",
   "metadata": {},
   "source": [
    "Missing Values filled by mean of the columns"
   ]
  },
  {
   "cell_type": "code",
   "execution_count": 6,
   "metadata": {
    "collapsed": false
   },
   "outputs": [],
   "source": [
    "#Fill missing values with mean in all columns \n",
    "df_train = df_train.where(pd.notnull(df_train), df_train.mean(), axis = \"columns\")\n",
    "df_test = df_test.where(pd.notnull(df_test), df_test.mean(), axis = \"columns\")"
   ]
  },
  {
   "cell_type": "markdown",
   "metadata": {},
   "source": [
    "### Cross-Vaidation and Feature Importance"
   ]
  },
  {
   "cell_type": "code",
   "execution_count": 7,
   "metadata": {
    "collapsed": false
   },
   "outputs": [],
   "source": [
    "from sklearn.cross_validation import train_test_split"
   ]
  },
  {
   "cell_type": "code",
   "execution_count": 8,
   "metadata": {
    "collapsed": false
   },
   "outputs": [],
   "source": [
    "X = df_train\n",
    "y = X['Active_Customer']\n",
    "X = X.drop(['Active_Customer'],axis=1)"
   ]
  },
  {
   "cell_type": "code",
   "execution_count": 9,
   "metadata": {
    "collapsed": false
   },
   "outputs": [],
   "source": [
    "###Build test and training sets\n",
    "X_train, X_test, y_train, y_test = train_test_split(X,y,test_size=0.3, random_state=42)"
   ]
  },
  {
   "cell_type": "code",
   "execution_count": 10,
   "metadata": {
    "collapsed": false
   },
   "outputs": [
    {
     "data": {
      "text/plain": [
       "23551    0\n",
       "22582    1\n",
       "11728    1\n",
       "3110     0\n",
       "12025    1\n",
       "12210    1\n",
       "6978     1\n",
       "13396    1\n",
       "12981    0\n",
       "14736    1\n",
       "17729    1\n",
       "12967    0\n",
       "25499    1\n",
       "23472    0\n",
       "19646    1\n",
       "20745    1\n",
       "22862    0\n",
       "22819    0\n",
       "14438    0\n",
       "18570    0\n",
       "17567    1\n",
       "25007    1\n",
       "2153     1\n",
       "14775    1\n",
       "21210    0\n",
       "1921     0\n",
       "4715     0\n",
       "3635     1\n",
       "1675     0\n",
       "11066    1\n",
       "        ..\n",
       "15676    0\n",
       "9736     0\n",
       "20096    0\n",
       "5282     1\n",
       "21070    1\n",
       "15286    1\n",
       "7095     0\n",
       "11266    0\n",
       "381      1\n",
       "14503    1\n",
       "24952    1\n",
       "20262    1\n",
       "25215    1\n",
       "1676     1\n",
       "714      1\n",
       "2678     0\n",
       "16261    1\n",
       "19967    1\n",
       "18422    1\n",
       "13317    1\n",
       "19591    1\n",
       "22377    0\n",
       "9480     0\n",
       "3438     0\n",
       "25409    1\n",
       "7615     0\n",
       "21290    0\n",
       "3824     1\n",
       "12134    1\n",
       "1586     0\n",
       "Name: Active_Customer, dtype: int64"
      ]
     },
     "execution_count": 10,
     "metadata": {},
     "output_type": "execute_result"
    }
   ],
   "source": [
    "y_test"
   ]
  },
  {
   "cell_type": "code",
   "execution_count": 10,
   "metadata": {
    "collapsed": false
   },
   "outputs": [],
   "source": [
    "from sklearn.ensemble import RandomForestClassifier\n",
    "import matplotlib.pyplot as plt\n",
    "%matplotlib inline\n",
    "\n",
    "X_train_mod = X_train.drop(['Cust_id'],axis=1)\n",
    "data_labels = df_train.columns[1:]"
   ]
  },
  {
   "cell_type": "code",
   "execution_count": null,
   "metadata": {
    "collapsed": true
   },
   "outputs": [],
   "source": [
    "forest = RandomForestClassifier(n_estimators=10000,random_state=0,n_jobs=1)\n",
    "forest.fit(X_train_mod, y_train)\n",
    "importances = forest.feature_importances_\n",
    "indices = np.argsort(importances)[::-1]\n",
    "\n",
    "for f in range(X_train_mod.shape[1]):\n",
    "    print(\"%2d) %-*s %f\" % (f + 1, 30, data_labels[indices[f]], importances[indices[f]]))\n",
    "\n",
    "plt.title('Feature Importances')\n",
    "plt.bar(range(X_train_mod.shape[1]), importances[indices], color='lightblue', align='center')\n",
    "\n",
    "plt.xticks(range(X_train_mod.shape[1]), data_labels[indices], rotation=90)\n",
    "plt.xlim([-1, X_train_mod.shape[1]])\n",
    "plt.tight_layout()\n",
    "\n",
    "plt.show()"
   ]
  },
  {
   "cell_type": "code",
   "execution_count": 11,
   "metadata": {
    "collapsed": false
   },
   "outputs": [],
   "source": [
    "X_test_mod = X_test.drop(['Cust_id'],axis=1)\n",
    "df_test_mod = df_test.drop(['Cust_id'],axis=1)"
   ]
  },
  {
   "cell_type": "code",
   "execution_count": 12,
   "metadata": {
    "collapsed": false
   },
   "outputs": [],
   "source": [
    "from sklearn.preprocessing import StandardScaler\n",
    "\n",
    "sc = StandardScaler()\n",
    "X_train_std = sc.fit_transform(X_train_mod)\n",
    "X_test_std = sc.transform(X_test_mod)\n",
    "df_test_std = sc.transform(df_test_mod)"
   ]
  },
  {
   "cell_type": "code",
   "execution_count": 13,
   "metadata": {
    "collapsed": false
   },
   "outputs": [
    {
     "name": "stdout",
     "output_type": "stream",
     "text": [
      "\n",
      "Eigenvalues \n",
      "[  3.50821816e+01 +0.00000000e+00j   1.23291438e+01 +0.00000000e+00j\n",
      "   1.19911027e+01 +0.00000000e+00j   1.14039233e+01 +0.00000000e+00j\n",
      "   9.67752766e+00 +0.00000000e+00j   9.55069222e+00 +0.00000000e+00j\n",
      "   8.90339943e+00 +0.00000000e+00j   8.00224447e+00 +0.00000000e+00j\n",
      "   7.55492607e+00 +0.00000000e+00j   6.82652883e+00 +0.00000000e+00j\n",
      "   5.98040727e+00 +0.00000000e+00j   5.31055636e+00 +0.00000000e+00j\n",
      "   4.31959408e+00 +0.00000000e+00j   3.66036155e+00 +0.00000000e+00j\n",
      "   3.52943294e+00 +0.00000000e+00j   3.12133304e+00 +0.00000000e+00j\n",
      "   3.03528902e+00 +0.00000000e+00j   2.87928310e+00 +0.00000000e+00j\n",
      "   2.79957601e+00 +0.00000000e+00j   2.67638123e+00 +0.00000000e+00j\n",
      "   2.61997840e+00 +0.00000000e+00j   2.51170138e+00 +0.00000000e+00j\n",
      "   2.41434408e+00 +0.00000000e+00j   2.39759715e+00 +0.00000000e+00j\n",
      "   2.38342868e+00 +0.00000000e+00j   2.26206286e+00 +0.00000000e+00j\n",
      "   2.19995217e+00 +0.00000000e+00j   2.18091235e+00 +0.00000000e+00j\n",
      "   2.10361912e+00 +0.00000000e+00j   2.01732824e+00 +0.00000000e+00j\n",
      "   1.95269361e+00 +0.00000000e+00j   1.91261895e+00 +0.00000000e+00j\n",
      "   1.88511187e+00 +0.00000000e+00j   1.74666799e+00 +0.00000000e+00j\n",
      "   1.67982301e+00 +0.00000000e+00j   1.49987949e+00 +0.00000000e+00j\n",
      "   1.43973205e+00 +0.00000000e+00j   1.41021596e+00 +0.00000000e+00j\n",
      "   1.34072698e+00 +0.00000000e+00j   1.32339100e+00 +0.00000000e+00j\n",
      "   1.29053704e+00 +0.00000000e+00j   1.24403601e+00 +0.00000000e+00j\n",
      "   1.19868818e+00 +0.00000000e+00j   1.17037090e+00 +0.00000000e+00j\n",
      "   1.15753864e+00 +0.00000000e+00j   1.09075025e+00 +0.00000000e+00j\n",
      "   1.07970121e+00 +0.00000000e+00j   1.05919562e+00 +0.00000000e+00j\n",
      "   1.04920635e+00 +0.00000000e+00j   1.01976633e+00 +0.00000000e+00j\n",
      "   1.01903881e+00 +0.00000000e+00j   1.00379647e+00 +0.00000000e+00j\n",
      "   9.70893227e-01 +0.00000000e+00j   9.64354758e-01 +0.00000000e+00j\n",
      "   9.46464737e-01 +0.00000000e+00j   9.38748030e-01 +0.00000000e+00j\n",
      "   9.27913942e-01 +0.00000000e+00j   9.19637999e-01 +0.00000000e+00j\n",
      "   8.91980832e-01 +0.00000000e+00j   8.65024336e-01 +0.00000000e+00j\n",
      "   8.56538688e-01 +0.00000000e+00j   8.06022422e-01 +0.00000000e+00j\n",
      "   8.30405658e-01 +0.00000000e+00j   8.27047011e-01 +0.00000000e+00j\n",
      "   7.55992747e-01 +0.00000000e+00j   7.35293275e-01 +0.00000000e+00j\n",
      "   7.25161629e-01 +0.00000000e+00j   7.23359902e-01 +0.00000000e+00j\n",
      "   6.93969170e-01 +0.00000000e+00j   6.85694191e-01 +0.00000000e+00j\n",
      "   6.77117627e-01 +0.00000000e+00j   6.65365351e-01 +0.00000000e+00j\n",
      "   6.53457213e-01 +0.00000000e+00j   6.37134605e-01 +0.00000000e+00j\n",
      "   6.18029064e-01 +0.00000000e+00j   5.85227735e-01 +0.00000000e+00j\n",
      "   6.01174702e-01 +0.00000000e+00j   5.98859791e-01 +0.00000000e+00j\n",
      "   5.63285216e-01 +0.00000000e+00j   5.57706521e-01 +0.00000000e+00j\n",
      "   5.43037585e-01 +0.00000000e+00j   5.32413190e-01 +0.00000000e+00j\n",
      "   5.19745102e-01 +0.00000000e+00j   5.00385730e-01 +0.00000000e+00j\n",
      "   4.96671703e-01 +0.00000000e+00j   4.79074874e-01 +0.00000000e+00j\n",
      "   4.71884038e-01 +0.00000000e+00j   4.65405903e-01 +0.00000000e+00j\n",
      "   4.54999323e-01 +0.00000000e+00j   4.46672450e-01 +0.00000000e+00j\n",
      "   4.34920185e-01 +0.00000000e+00j   4.10610795e-01 +0.00000000e+00j\n",
      "   4.20114186e-01 +0.00000000e+00j   4.13413774e-01 +0.00000000e+00j\n",
      "   4.01958177e-01 +0.00000000e+00j   3.96345841e-01 +0.00000000e+00j\n",
      "   3.87738798e-01 +0.00000000e+00j   3.84191683e-01 +0.00000000e+00j\n",
      "   3.76229867e-01 +0.00000000e+00j   3.65958659e-01 +0.00000000e+00j\n",
      "   3.53676914e-01 +0.00000000e+00j   3.41001458e-01 +0.00000000e+00j\n",
      "   3.34678989e-01 +0.00000000e+00j   3.24238075e-01 +0.00000000e+00j\n",
      "   3.22186977e-01 +0.00000000e+00j   3.14911066e-01 +0.00000000e+00j\n",
      "   3.08949510e-01 +0.00000000e+00j   2.67425011e-01 +0.00000000e+00j\n",
      "   2.97705337e-01 +0.00000000e+00j   2.73310003e-01 +0.00000000e+00j\n",
      "   2.92489983e-01 +0.00000000e+00j   2.77976500e-01 +0.00000000e+00j\n",
      "   2.81691468e-01 +0.00000000e+00j   2.87090236e-01 +0.00000000e+00j\n",
      "   2.36791518e-01 +0.00000000e+00j   2.57947516e-01 +0.00000000e+00j\n",
      "   2.51988868e-01 +0.00000000e+00j   2.49697679e-01 +0.00000000e+00j\n",
      "   2.30432335e-01 +0.00000000e+00j   2.27252948e-01 +0.00000000e+00j\n",
      "   2.28285561e-01 +0.00000000e+00j   2.19783363e-01 +0.00000000e+00j\n",
      "   2.10104383e-01 +0.00000000e+00j   2.13931509e-01 +0.00000000e+00j\n",
      "   2.15562880e-01 +0.00000000e+00j   2.06070625e-01 +0.00000000e+00j\n",
      "   2.05024995e-01 +0.00000000e+00j   1.89115650e-01 +0.00000000e+00j\n",
      "   1.92569528e-01 +0.00000000e+00j   1.93787976e-01 +0.00000000e+00j\n",
      "   2.01013857e-01 +0.00000000e+00j   1.77391399e-01 +0.00000000e+00j\n",
      "   1.72061435e-01 +0.00000000e+00j   1.69819620e-01 +0.00000000e+00j\n",
      "   1.60557711e-01 +0.00000000e+00j   1.56483418e-01 +0.00000000e+00j\n",
      "   1.98438033e-01 +0.00000000e+00j   1.57381093e-01 +0.00000000e+00j\n",
      "   1.54098536e-01 +0.00000000e+00j   1.48165969e-01 +0.00000000e+00j\n",
      "   1.45470910e-01 +0.00000000e+00j   1.42723160e-01 +0.00000000e+00j\n",
      "   1.34003948e-01 +0.00000000e+00j   1.31686516e-01 +0.00000000e+00j\n",
      "   1.21114813e-01 +0.00000000e+00j   1.15912629e-01 +0.00000000e+00j\n",
      "   1.18476148e-01 +0.00000000e+00j   1.27043822e-01 +0.00000000e+00j\n",
      "   1.14671202e-01 +0.00000000e+00j   1.09811217e-01 +0.00000000e+00j\n",
      "   1.09389632e-01 +0.00000000e+00j   1.05457367e-01 +0.00000000e+00j\n",
      "   1.04689909e-01 +0.00000000e+00j   1.02402048e-01 +0.00000000e+00j\n",
      "   9.81229186e-02 +0.00000000e+00j   9.58663483e-02 +0.00000000e+00j\n",
      "   8.79983307e-02 +0.00000000e+00j   8.63734716e-02 +0.00000000e+00j\n",
      "   6.81811446e-02 +0.00000000e+00j   6.98362497e-02 +0.00000000e+00j\n",
      "   7.07937706e-02 +0.00000000e+00j   7.55341405e-02 +0.00000000e+00j\n",
      "   7.76322538e-02 +0.00000000e+00j   7.97399964e-02 +0.00000000e+00j\n",
      "   8.03435588e-02 +0.00000000e+00j   6.11820294e-02 +0.00000000e+00j\n",
      "   5.77361010e-02 +0.00000000e+00j   5.51211710e-02 +0.00000000e+00j\n",
      "   5.35810312e-02 +0.00000000e+00j   5.32836567e-02 +0.00000000e+00j\n",
      "   5.08585414e-02 +0.00000000e+00j   5.02626237e-02 +0.00000000e+00j\n",
      "   4.88387594e-02 +0.00000000e+00j   4.69705265e-02 +0.00000000e+00j\n",
      "   4.72536305e-02 +0.00000000e+00j   4.58996565e-02 +0.00000000e+00j\n",
      "   4.45933890e-02 +0.00000000e+00j   4.51580160e-02 +0.00000000e+00j\n",
      "   4.02573840e-02 +0.00000000e+00j   4.01960251e-02 +0.00000000e+00j\n",
      "   3.68110810e-02 +0.00000000e+00j   3.81459294e-02 +0.00000000e+00j\n",
      "   3.49079487e-02 +0.00000000e+00j   3.40537049e-02 +0.00000000e+00j\n",
      "   3.42498029e-02 +0.00000000e+00j   3.31440746e-02 +0.00000000e+00j\n",
      "   3.24541208e-02 +0.00000000e+00j   3.10856651e-02 +0.00000000e+00j\n",
      "   2.88026124e-02 +0.00000000e+00j   2.79935538e-02 +0.00000000e+00j\n",
      "   2.53783780e-02 +0.00000000e+00j   2.55351686e-02 +0.00000000e+00j\n",
      "   2.21580051e-02 +0.00000000e+00j   2.31279645e-02 +0.00000000e+00j\n",
      "   2.15644461e-02 +0.00000000e+00j   1.61643234e-02 +0.00000000e+00j\n",
      "   1.71605450e-02 +0.00000000e+00j   1.84791246e-02 +0.00000000e+00j\n",
      "   1.76701216e-02 +0.00000000e+00j   1.58090948e-02 +0.00000000e+00j\n",
      "   1.54932856e-02 +0.00000000e+00j   1.48227617e-02 +0.00000000e+00j\n",
      "   1.39480930e-02 +0.00000000e+00j   1.18217713e-02 +0.00000000e+00j\n",
      "   1.23848474e-02 +0.00000000e+00j   1.13510946e-02 +0.00000000e+00j\n",
      "   1.06688517e-02 +0.00000000e+00j   9.37449650e-03 +0.00000000e+00j\n",
      "   1.09579772e-02 +0.00000000e+00j   9.08498735e-03 +0.00000000e+00j\n",
      "   8.21713786e-03 +0.00000000e+00j   7.82790636e-03 +0.00000000e+00j\n",
      "   7.22056450e-03 +0.00000000e+00j   7.09261907e-03 +0.00000000e+00j\n",
      "   7.56928529e-03 +0.00000000e+00j   6.57491207e-03 +0.00000000e+00j\n",
      "   6.16273628e-03 +0.00000000e+00j   5.59231434e-03 +0.00000000e+00j\n",
      "   5.31539263e-03 +0.00000000e+00j   1.69440989e-04 +0.00000000e+00j\n",
      "   4.57664550e-03 +0.00000000e+00j   3.50843091e-03 +0.00000000e+00j\n",
      "   4.15256595e-03 +0.00000000e+00j   4.38885369e-03 +0.00000000e+00j\n",
      "   4.66317516e-03 +0.00000000e+00j   3.95932606e-03 +0.00000000e+00j\n",
      "   3.34057442e-03 +0.00000000e+00j   3.12941889e-03 +0.00000000e+00j\n",
      "   2.61891537e-03 +0.00000000e+00j   2.26408419e-03 +0.00000000e+00j\n",
      "   1.64233324e-03 +0.00000000e+00j   1.01763837e-04 +0.00000000e+00j\n",
      "   1.55703455e-03 +0.00000000e+00j   5.73154403e-05 +0.00000000e+00j\n",
      "   5.43562557e-04 +0.00000000e+00j   8.43895656e-04 +0.00000000e+00j\n",
      "   3.93960538e-04 +0.00000000e+00j   3.37249237e-04 +0.00000000e+00j\n",
      "   1.24851755e-03 +0.00000000e+00j   1.37119925e-03 +0.00000000e+00j\n",
      "   3.15939039e-04 +0.00000000e+00j   9.26493756e-04 +0.00000000e+00j\n",
      "   9.48039985e-04 +0.00000000e+00j   1.38419719e-03 +0.00000000e+00j\n",
      "   2.13818048e-03 +0.00000000e+00j   2.54458147e-03 +0.00000000e+00j\n",
      "   2.48826333e-03 +0.00000000e+00j   2.39616090e-03 +0.00000000e+00j\n",
      "   2.46629551e-03 +0.00000000e+00j   1.09156428e-17 +2.06533847e-17j\n",
      "   1.09156428e-17 -2.06533847e-17j   1.08879249e-17 +0.00000000e+00j\n",
      "  -2.46748702e-19 +0.00000000e+00j   1.59224413e-16 +0.00000000e+00j\n",
      "  -1.86872120e-17 +0.00000000e+00j]\n"
     ]
    }
   ],
   "source": [
    "import numpy as np\n",
    "cov_mat = np.cov(X_train_std.T)\n",
    "eigen_vals, eigen_vecs = np.linalg.eig(cov_mat)\n",
    "\n",
    "print('\\nEigenvalues \\n%s' % eigen_vals)"
   ]
  },
  {
   "cell_type": "code",
   "execution_count": 14,
   "metadata": {
    "collapsed": false
   },
   "outputs": [
    {
     "name": "stdout",
     "output_type": "stream",
     "text": [
      "(255.014139174+0j)\n"
     ]
    }
   ],
   "source": [
    "tot = sum(eigen_vals)\n",
    "var_exp = [(i / tot) for i in sorted(eigen_vals, reverse=True)]\n",
    "cum_var_exp = np.cumsum(var_exp)\n",
    "print(tot)"
   ]
  },
  {
   "cell_type": "code",
   "execution_count": 15,
   "metadata": {
    "collapsed": false
   },
   "outputs": [
    {
     "name": "stderr",
     "output_type": "stream",
     "text": [
      "C:\\Users\\Srinivasa\\Anaconda3\\lib\\site-packages\\matplotlib\\patches.py:642: ComplexWarning: Casting complex values to real discards the imaginary part\n",
      "  self._height = float(height)\n",
      "C:\\Users\\Srinivasa\\Anaconda3\\lib\\site-packages\\matplotlib\\patches.py:640: ComplexWarning: Casting complex values to real discards the imaginary part\n",
      "  self._y = float(xy[1])\n",
      "C:\\Users\\Srinivasa\\Anaconda3\\lib\\site-packages\\numpy\\core\\numeric.py:474: ComplexWarning: Casting complex values to real discards the imaginary part\n",
      "  return array(a, dtype, copy=False, order=order)\n"
     ]
    },
    {
     "data": {
      "image/png": "[encoded data removed]",
      "text/plain": [
       "<matplotlib.figure.Figure at 0x2728d339dd8>"
      ]
     },
     "metadata": {},
     "output_type": "display_data"
    }
   ],
   "source": [
    "import matplotlib.pyplot as plt\n",
    "%matplotlib inline\n",
    "\n",
    "plt.bar(range(1, 256), var_exp, alpha=0.5, align='center',\n",
    "        label='individual explained variance')\n",
    "plt.step(range(1, 256), cum_var_exp, where='mid',\n",
    "         label='cumulative explained variance')\n",
    "plt.ylabel('Explained variance ratio')\n",
    "plt.xlabel('Principal components')\n",
    "plt.legend(loc='best')\n",
    "plt.tight_layout()\n",
    "# plt.savefig('./figures/pca1.png', dpi=300)\n",
    "plt.show()"
   ]
  },
  {
   "cell_type": "code",
   "execution_count": 16,
   "metadata": {
    "collapsed": false
   },
   "outputs": [
    {
     "data": {
      "image/png": "[encoded data removed]",
      "text/plain": [
       "<matplotlib.figure.Figure at 0x27291ae4ef0>"
      ]
     },
     "metadata": {},
     "output_type": "display_data"
    }
   ],
   "source": [
    "from sklearn.decomposition import PCA\n",
    "\n",
    "pca = PCA()\n",
    "X_train_pca = pca.fit_transform(X_train_std)\n",
    "pca.explained_variance_ratio_\n",
    "plt.bar(range(1, 256), pca.explained_variance_ratio_, alpha=0.5, align='center')\n",
    "plt.step(range(1, 256), np.cumsum(pca.explained_variance_ratio_), where='mid')\n",
    "plt.ylabel('Explained variance ratio')\n",
    "plt.xlabel('Principal components')\n",
    "plt.show()"
   ]
  },
  {
   "cell_type": "code",
   "execution_count": 32,
   "metadata": {
    "collapsed": false
   },
   "outputs": [],
   "source": [
    "pca = PCA(n_components=160)\n",
    "X_train_pca = pca.fit_transform(X_train_std)\n",
    "X_test_pca = pca.transform(X_test_std)\n",
    "df_test_pca = pca.transform(df_test_std)"
   ]
  },
  {
   "cell_type": "markdown",
   "metadata": {},
   "source": [
    "### Logistic Regression with PCA"
   ]
  },
  {
   "cell_type": "code",
   "execution_count": 33,
   "metadata": {
    "collapsed": false
   },
   "outputs": [],
   "source": [
    "from sklearn.linear_model import LogisticRegression\n",
    "lr1 = LogisticRegression()\n",
    "lr1 = lr1.fit(X_train_pca, y_train)"
   ]
  },
  {
   "cell_type": "code",
   "execution_count": 34,
   "metadata": {
    "collapsed": false
   },
   "outputs": [
    {
     "name": "stdout",
     "output_type": "stream",
     "text": [
      "Training accuracy: 0.679640718563\n",
      "Test accuracy: 0.663518758085\n"
     ]
    }
   ],
   "source": [
    "print('Training accuracy:', lr1.score(X_train_pca, y_train))\n",
    "print('Test accuracy:', lr1.score(X_test_pca, y_test))"
   ]
  },
  {
   "cell_type": "code",
   "execution_count": 35,
   "metadata": {
    "collapsed": true
   },
   "outputs": [],
   "source": [
    "predict = lr1.predict(df_test_pca)"
   ]
  },
  {
   "cell_type": "code",
   "execution_count": 36,
   "metadata": {
    "collapsed": true
   },
   "outputs": [],
   "source": [
    "result = pd.DataFrame(predict, columns=([\"Active_Customer\"]), index = df_test[\"Cust_id\"])\n",
    "result.to_csv(\"submission_66.csv\") #0.633152"
   ]
  },
  {
   "cell_type": "markdown",
   "metadata": {},
   "source": [
    "### Logistic Regression without PCA"
   ]
  },
  {
   "cell_type": "code",
   "execution_count": null,
   "metadata": {
    "collapsed": true
   },
   "outputs": [],
   "source": [
    "from sklearn.linear_model import LogisticRegression\n",
    "lr2 = LogisticRegression()\n",
    "lr2 = lr2.fit(X_train_mod, y_train)"
   ]
  },
  {
   "cell_type": "code",
   "execution_count": null,
   "metadata": {
    "collapsed": false
   },
   "outputs": [],
   "source": [
    "print('Training accuracy:', lr2.score(X_train_mod, y_train))\n",
    "print('Test accuracy:', lr2.score(X_test_mod, y_test))"
   ]
  },
  {
   "cell_type": "code",
   "execution_count": null,
   "metadata": {
    "collapsed": false
   },
   "outputs": [],
   "source": [
    "predict = lr2.predict(df_test_mod)"
   ]
  },
  {
   "cell_type": "code",
   "execution_count": null,
   "metadata": {
    "collapsed": false
   },
   "outputs": [],
   "source": [
    "result = pd.DataFrame(predict, columns=([\"Active_Customer\"]), index = df_test[\"Cust_id\"])\n",
    "result.to_csv(\"submission_11.csv\") #0.656401"
   ]
  },
  {
   "cell_type": "markdown",
   "metadata": {},
   "source": [
    "### Logistic Regression with Standardization and no PCA"
   ]
  },
  {
   "cell_type": "code",
   "execution_count": null,
   "metadata": {
    "collapsed": true
   },
   "outputs": [],
   "source": [
    "from sklearn.linear_model import LogisticRegression\n",
    "lr3 = LogisticRegression()\n",
    "lr3 = lr3.fit(X_train_std, y_train)"
   ]
  },
  {
   "cell_type": "code",
   "execution_count": null,
   "metadata": {
    "collapsed": false
   },
   "outputs": [],
   "source": [
    "print('Training accuracy:', lr3.score(X_train_std, y_train))\n",
    "print('Test accuracy:', lr3.score(X_test_std, y_test))"
   ]
  },
  {
   "cell_type": "code",
   "execution_count": null,
   "metadata": {
    "collapsed": true
   },
   "outputs": [],
   "source": [
    "predict = lr3.predict(df_test_std)"
   ]
  },
  {
   "cell_type": "code",
   "execution_count": null,
   "metadata": {
    "collapsed": true
   },
   "outputs": [],
   "source": [
    "result = pd.DataFrame(predict, columns=([\"Active_Customer\"]), index = df_test[\"Cust_id\"])\n",
    "result.to_csv(\"submission_18.csv\") #0.658213"
   ]
  },
  {
   "cell_type": "markdown",
   "metadata": {},
   "source": [
    "### Random Forest without PCA"
   ]
  },
  {
   "cell_type": "code",
   "execution_count": null,
   "metadata": {
    "collapsed": true
   },
   "outputs": [],
   "source": [
    "rf1 = RandomForestClassifier(n_estimators = 200, criterion = \"entropy\", max_depth = None,\n",
    "                               max_features = \"auto\", bootstrap = True, oob_score = True,\n",
    "                               warm_start = True, random_state = 100, class_weight = \"balanced\")"
   ]
  },
  {
   "cell_type": "code",
   "execution_count": null,
   "metadata": {
    "collapsed": false
   },
   "outputs": [],
   "source": [
    "rf1 = rf1.fit(X_train_mod, y_train)"
   ]
  },
  {
   "cell_type": "code",
   "execution_count": null,
   "metadata": {
    "collapsed": false
   },
   "outputs": [],
   "source": [
    "print('Training accuracy:', rf1.score(X_train_mod, y_train))\n",
    "print('Test accuracy:', rf1.score(X_test_mod, y_test))"
   ]
  },
  {
   "cell_type": "code",
   "execution_count": null,
   "metadata": {
    "collapsed": true
   },
   "outputs": [],
   "source": [
    "predict = rf1.predict(df_test_mod)\n",
    "result = pd.DataFrame(predict, columns=([\"Active_Customer\"]), index = df_test[\"Cust_id\"])\n",
    "result.to_csv(\"submission_12.csv\")#0.669686"
   ]
  },
  {
   "cell_type": "markdown",
   "metadata": {},
   "source": [
    "### Random Forest with PCA and Standardization"
   ]
  },
  {
   "cell_type": "code",
   "execution_count": 37,
   "metadata": {
    "collapsed": true
   },
   "outputs": [],
   "source": [
    "rf2 = RandomForestClassifier(n_estimators = 200, criterion = \"entropy\", max_depth = None,\n",
    "                               max_features = \"auto\", bootstrap = True, oob_score = True,\n",
    "                               warm_start = True, random_state = 100, class_weight = \"balanced\")"
   ]
  },
  {
   "cell_type": "code",
   "execution_count": 38,
   "metadata": {
    "collapsed": false
   },
   "outputs": [
    {
     "name": "stderr",
     "output_type": "stream",
     "text": [
      "C:\\Users\\Srinivasa\\Anaconda3\\lib\\site-packages\\sklearn\\ensemble\\forest.py:452: UserWarning: class_weight presets \"balanced\" or \"balanced_subsample\" are not recommended for warm_start if the fitted data differs from the full dataset. In order to use \"balanced\" weights, use compute_class_weight(\"balanced\", classes, y). In place of y you can use a large enough sample of the full training set target to properly estimate the class frequency distributions. Pass the resulting weights as the class_weight parameter.\n",
      "  warn('class_weight presets \"balanced\" or \"balanced_subsample\" are '\n"
     ]
    }
   ],
   "source": [
    "rf2 = rf2.fit(X_train_pca, y_train)"
   ]
  },
  {
   "cell_type": "code",
   "execution_count": 39,
   "metadata": {
    "collapsed": false
   },
   "outputs": [
    {
     "name": "stdout",
     "output_type": "stream",
     "text": [
      "Training accuracy: 0.999944555334\n",
      "Test accuracy: 0.653686934023\n"
     ]
    }
   ],
   "source": [
    "print('Training accuracy:', rf2.score(X_train_pca, y_train))\n",
    "print('Test accuracy:', rf2.score(X_test_pca, y_test))"
   ]
  },
  {
   "cell_type": "code",
   "execution_count": 41,
   "metadata": {
    "collapsed": false
   },
   "outputs": [],
   "source": [
    "predict = rf2.predict(df_test_pca)\n",
    "result = pd.DataFrame(predict, columns=([\"Active_Customer\"]), index = df_test[\"Cust_id\"])\n",
    "result.to_csv(\"submission_67.csv\") #0.644022"
   ]
  },
  {
   "cell_type": "markdown",
   "metadata": {},
   "source": [
    "### Random Forest with Standardization"
   ]
  },
  {
   "cell_type": "code",
   "execution_count": null,
   "metadata": {
    "collapsed": true
   },
   "outputs": [],
   "source": [
    "rf3 = RandomForestClassifier(n_estimators = 500, criterion = \"entropy\", max_depth = None,\n",
    "                               max_features = \"auto\", bootstrap = True, oob_score = True,\n",
    "                               warm_start = True, random_state = 100, class_weight = \"balanced\")"
   ]
  },
  {
   "cell_type": "code",
   "execution_count": null,
   "metadata": {
    "collapsed": false
   },
   "outputs": [],
   "source": [
    "rf3 = rf.fit(X_train_std, y_train)"
   ]
  },
  {
   "cell_type": "code",
   "execution_count": null,
   "metadata": {
    "collapsed": false
   },
   "outputs": [],
   "source": [
    "print('Training accuracy:', rf3.score(X_train_std, y_train))\n",
    "print('Test accuracy:', rf3.score(X_test_std, y_test))"
   ]
  },
  {
   "cell_type": "code",
   "execution_count": null,
   "metadata": {
    "collapsed": true
   },
   "outputs": [],
   "source": [
    "predict = rf3.predict(df_test_std)\n",
    "result = pd.DataFrame(predict, columns=([\"Active_Customer\"]), index = df_test[\"Cust_id\"])\n",
    "result.to_csv(\"submission_14.csv\") #0.666667"
   ]
  },
  {
   "cell_type": "markdown",
   "metadata": {},
   "source": [
    "### Random Forest without PCA and n_estimators=500"
   ]
  },
  {
   "cell_type": "code",
   "execution_count": null,
   "metadata": {
    "collapsed": true
   },
   "outputs": [],
   "source": [
    "rf4 = RandomForestClassifier(n_estimators = 500, criterion = \"entropy\", max_depth = None,\n",
    "                               max_features = \"auto\", bootstrap = True, oob_score = True,\n",
    "                               warm_start = True, random_state = 100, class_weight = \"balanced\")"
   ]
  },
  {
   "cell_type": "code",
   "execution_count": null,
   "metadata": {
    "collapsed": false
   },
   "outputs": [],
   "source": [
    "rf4 = rf.fit(X_train_mod, y_train)"
   ]
  },
  {
   "cell_type": "code",
   "execution_count": null,
   "metadata": {
    "collapsed": false
   },
   "outputs": [],
   "source": [
    "print('Training accuracy:', rf4.score(X_train_mod, y_train))\n",
    "print('Test accuracy:', rf4.score(X_test_mod, y_test))"
   ]
  },
  {
   "cell_type": "code",
   "execution_count": null,
   "metadata": {
    "collapsed": false
   },
   "outputs": [],
   "source": [
    "predict = rf4.predict(df_test_mod)\n",
    "result = pd.DataFrame(predict, columns=([\"Active_Customer\"]), index = df_test[\"Cust_id\"])\n",
    "result.to_csv(\"submission_15.csv\") #0.665459"
   ]
  },
  {
   "cell_type": "markdown",
   "metadata": {},
   "source": [
    "### Random Forest with Gini Index and Standardization"
   ]
  },
  {
   "cell_type": "code",
   "execution_count": null,
   "metadata": {
    "collapsed": true
   },
   "outputs": [],
   "source": [
    "rf5 = RandomForestClassifier(n_estimators = 200, criterion = \"gini\", max_depth = None,\n",
    "                               max_features = \"auto\", bootstrap = True, oob_score = True,\n",
    "                               warm_start = True, random_state = 100, class_weight = \"balanced\")"
   ]
  },
  {
   "cell_type": "code",
   "execution_count": null,
   "metadata": {
    "collapsed": false
   },
   "outputs": [],
   "source": [
    "rf5 = rf5.fit(X_train_std, y_train)"
   ]
  },
  {
   "cell_type": "code",
   "execution_count": null,
   "metadata": {
    "collapsed": false
   },
   "outputs": [],
   "source": [
    "print('Training accuracy:', rf5.score(X_train_std, y_train))\n",
    "print('Test accuracy:', rf5.score(X_test_std, y_test))"
   ]
  },
  {
   "cell_type": "code",
   "execution_count": null,
   "metadata": {
    "collapsed": true
   },
   "outputs": [],
   "source": [
    "predict = rf5.predict(df_test_std)\n",
    "result = pd.DataFrame(predict, columns=([\"Active_Customer\"]), index = df_test[\"Cust_id\"])\n",
    "result.to_csv(\"submission_16.csv\") #0.673007"
   ]
  },
  {
   "cell_type": "markdown",
   "metadata": {},
   "source": [
    "### Adaboost Classifier"
   ]
  },
  {
   "cell_type": "code",
   "execution_count": null,
   "metadata": {
    "collapsed": true
   },
   "outputs": [],
   "source": [
    "from sklearn.ensemble import AdaBoostClassifier\n",
    "abc = AdaBoostClassifier(n_estimators = 200, learning_rate = 1.0, algorithm = \"SAMME.R\", random_state = 100)"
   ]
  },
  {
   "cell_type": "code",
   "execution_count": null,
   "metadata": {
    "collapsed": true
   },
   "outputs": [],
   "source": [
    "abc = abc.fit(X_train_mod, y_train)"
   ]
  },
  {
   "cell_type": "code",
   "execution_count": null,
   "metadata": {
    "collapsed": false
   },
   "outputs": [],
   "source": [
    "print('Training accuracy:', rf.score(X_train_mod, y_train))\n",
    "print('Test accuracy:', rf.score(X_test_mod, y_test))"
   ]
  },
  {
   "cell_type": "code",
   "execution_count": null,
   "metadata": {
    "collapsed": true
   },
   "outputs": [],
   "source": [
    "predict = rf.predict(df_test_mod)\n",
    "result = pd.DataFrame(predict, columns=([\"Active_Customer\"]), index = df_test[\"Cust_id\"])\n",
    "result.to_csv(\"submission_17.csv\") #0.532609"
   ]
  },
  {
   "cell_type": "markdown",
   "metadata": {},
   "source": [
    "### Random Forest with no PCA, Standardization and n_estimators=200"
   ]
  },
  {
   "cell_type": "code",
   "execution_count": 24,
   "metadata": {
    "collapsed": true
   },
   "outputs": [],
   "source": [
    "rf6 = RandomForestClassifier(n_estimators = 150, criterion = \"entropy\", max_depth = None,\n",
    "                               max_features = \"auto\", bootstrap = True, oob_score = True,\n",
    "                               warm_start = True, random_state = 100, class_weight = \"balanced\")"
   ]
  },
  {
   "cell_type": "code",
   "execution_count": 25,
   "metadata": {
    "collapsed": false
   },
   "outputs": [
    {
     "name": "stderr",
     "output_type": "stream",
     "text": [
      "C:\\Users\\Srinivasa\\Anaconda3\\lib\\site-packages\\sklearn\\ensemble\\forest.py:452: UserWarning: class_weight presets \"balanced\" or \"balanced_subsample\" are not recommended for warm_start if the fitted data differs from the full dataset. In order to use \"balanced\" weights, use compute_class_weight(\"balanced\", classes, y). In place of y you can use a large enough sample of the full training set target to properly estimate the class frequency distributions. Pass the resulting weights as the class_weight parameter.\n",
      "  warn('class_weight presets \"balanced\" or \"balanced_subsample\" are '\n"
     ]
    }
   ],
   "source": [
    "rf6 = rf6.fit(X_train_std, y_train)"
   ]
  },
  {
   "cell_type": "code",
   "execution_count": 26,
   "metadata": {
    "collapsed": false
   },
   "outputs": [
    {
     "name": "stdout",
     "output_type": "stream",
     "text": [
      "Training accuracy: 0.999944555334\n",
      "Test accuracy: 0.675679172057\n"
     ]
    }
   ],
   "source": [
    "print('Training accuracy:', rf6.score(X_train_std, y_train))\n",
    "print('Test accuracy:', rf6.score(X_test_std, y_test))"
   ]
  },
  {
   "cell_type": "code",
   "execution_count": 27,
   "metadata": {
    "collapsed": true
   },
   "outputs": [],
   "source": [
    "predict = rf6.predict(df_test_std)\n",
    "result = pd.DataFrame(predict, columns=([\"Active_Customer\"]), index = df_test[\"Cust_id\"])\n",
    "result.to_csv(\"submission_27.csv\") #0."
   ]
  },
  {
   "cell_type": "markdown",
   "metadata": {},
   "source": [
    "### Random Forest with no PCA and n_estimators=200"
   ]
  },
  {
   "cell_type": "code",
   "execution_count": 28,
   "metadata": {
    "collapsed": true
   },
   "outputs": [],
   "source": [
    "rf7 = RandomForestClassifier(n_estimators = 150, criterion = \"entropy\", max_depth = None,\n",
    "                               max_features = \"auto\", bootstrap = True, oob_score = True,\n",
    "                               warm_start = True, random_state = 100, class_weight = \"balanced\")"
   ]
  },
  {
   "cell_type": "code",
   "execution_count": 29,
   "metadata": {
    "collapsed": false
   },
   "outputs": [
    {
     "name": "stderr",
     "output_type": "stream",
     "text": [
      "C:\\Users\\Srinivasa\\Anaconda3\\lib\\site-packages\\sklearn\\ensemble\\forest.py:452: UserWarning: class_weight presets \"balanced\" or \"balanced_subsample\" are not recommended for warm_start if the fitted data differs from the full dataset. In order to use \"balanced\" weights, use compute_class_weight(\"balanced\", classes, y). In place of y you can use a large enough sample of the full training set target to properly estimate the class frequency distributions. Pass the resulting weights as the class_weight parameter.\n",
      "  warn('class_weight presets \"balanced\" or \"balanced_subsample\" are '\n"
     ]
    }
   ],
   "source": [
    "rf7 = rf7.fit(X_train_mod, y_train)"
   ]
  },
  {
   "cell_type": "code",
   "execution_count": 30,
   "metadata": {
    "collapsed": false
   },
   "outputs": [
    {
     "name": "stdout",
     "output_type": "stream",
     "text": [
      "Training accuracy: 0.999944555334\n",
      "Test accuracy: 0.67490297542\n"
     ]
    }
   ],
   "source": [
    "print('Training accuracy:', rf7.score(X_train_mod, y_train))\n",
    "print('Test accuracy:', rf7.score(X_test_mod, y_test))"
   ]
  },
  {
   "cell_type": "code",
   "execution_count": 31,
   "metadata": {
    "collapsed": true
   },
   "outputs": [],
   "source": [
    "predict = rf7.predict(df_test_mod)\n",
    "result = pd.DataFrame(predict, columns=([\"Active_Customer\"]), index = df_test[\"Cust_id\"])\n",
    "result.to_csv(\"submission_28.csv\") #0.662742"
   ]
  },
  {
   "cell_type": "markdown",
   "metadata": {},
   "source": [
    "### Gaussian NB"
   ]
  },
  {
   "cell_type": "code",
   "execution_count": null,
   "metadata": {
    "collapsed": true
   },
   "outputs": [],
   "source": [
    "from sklearn.naive_bayes import GaussianNB"
   ]
  },
  {
   "cell_type": "code",
   "execution_count": null,
   "metadata": {
    "collapsed": true
   },
   "outputs": [],
   "source": [
    "gnb = GaussianNB()\n",
    "gnb = gnb.fit(X_train_mod, y_train)"
   ]
  },
  {
   "cell_type": "code",
   "execution_count": null,
   "metadata": {
    "collapsed": false
   },
   "outputs": [],
   "source": [
    "print('Training accuracy:', gnb.score(X_train_mod, y_train))\n",
    "print('Test accuracy:', gnb.score(X_test_mod, y_test))"
   ]
  },
  {
   "cell_type": "code",
   "execution_count": null,
   "metadata": {
    "collapsed": true
   },
   "outputs": [],
   "source": [
    "predict = gnb.predict(df_test_mod)\n",
    "result = pd.DataFrame(predict, columns=([\"Active_Customer\"]), index = df_test[\"Cust_id\"])\n",
    "result.to_csv(\"submission_23.csv\") #0.571256"
   ]
  },
  {
   "cell_type": "markdown",
   "metadata": {},
   "source": [
    "### Ensemble of the best 3 models"
   ]
  },
  {
   "cell_type": "code",
   "execution_count": null,
   "metadata": {
    "collapsed": true
   },
   "outputs": [],
   "source": [
    "lr2 = LogisticRegression()\n",
    "rf3 = RandomForestClassifier(n_estimators = 500, criterion = \"entropy\", max_depth = None,\n",
    "                               max_features = \"auto\", bootstrap = True, oob_score = True,\n",
    "                               warm_start = True, random_state = 100, class_weight = \"balanced\")\n",
    "rf5 = RandomForestClassifier(n_estimators = 200, criterion = \"gini\", max_depth = None,\n",
    "                               max_features = \"auto\", bootstrap = True, oob_score = True,\n",
    "                               warm_start = True, random_state = 100, class_weight = \"balanced\")"
   ]
  },
  {
   "cell_type": "code",
   "execution_count": null,
   "metadata": {
    "collapsed": true
   },
   "outputs": [],
   "source": [
    "#Drop 1st column in X\n",
    "X_mod = X.drop(['Cust_id'],axis=1)"
   ]
  },
  {
   "cell_type": "code",
   "execution_count": null,
   "metadata": {
    "collapsed": true
   },
   "outputs": [],
   "source": [
    "from sklearn import cross_validation\n",
    "from sklearn.ensemble import VotingClassifier"
   ]
  },
  {
   "cell_type": "code",
   "execution_count": null,
   "metadata": {
    "collapsed": true
   },
   "outputs": [],
   "source": [
    "eclf = VotingClassifier(estimators=[('lr', lr2), ('rf', rf3), ('rf', rf5)], voting='hard')"
   ]
  },
  {
   "cell_type": "code",
   "execution_count": null,
   "metadata": {
    "collapsed": false
   },
   "outputs": [],
   "source": [
    "for clf, label in zip([lr2, rf3, rf5, eclf], ['Logistic Regression', 'Random Forest-3', 'Random Forest-5', 'Ensemble']):\n",
    "    scores = cross_validation.cross_val_score(clf, X_mod, y, cv=5, scoring='accuracy')\n",
    "    print(\"Accuracy: %0.2f (+/- %0.2f) [%s]\" % (scores.mean(), scores.std(), label))"
   ]
  },
  {
   "cell_type": "code",
   "execution_count": null,
   "metadata": {
    "collapsed": false
   },
   "outputs": [],
   "source": [
    "eclf # 0.67201"
   ]
  },
  {
   "cell_type": "markdown",
   "metadata": {
    "collapsed": true
   },
   "source": [
    "### Support Vector Machines without PCA and Standardization"
   ]
  },
  {
   "cell_type": "code",
   "execution_count": null,
   "metadata": {
    "collapsed": true
   },
   "outputs": [],
   "source": [
    "from sklearn import svm"
   ]
  },
  {
   "cell_type": "code",
   "execution_count": null,
   "metadata": {
    "collapsed": true
   },
   "outputs": [],
   "source": [
    "linear_svc = svm.SVC(kernel = 'linear')\n",
    "rbf_svc = svm.SVC(kernel = 'rbf')"
   ]
  },
  {
   "cell_type": "code",
   "execution_count": null,
   "metadata": {
    "collapsed": true
   },
   "outputs": [],
   "source": [
    "linear_svc = linear_svc.fit(X_train_mod, y_train)\n",
    "rbf_svc = rbf_svc.fit(X_train_mod, y_train)"
   ]
  },
  {
   "cell_type": "code",
   "execution_count": null,
   "metadata": {
    "collapsed": true
   },
   "outputs": [],
   "source": [
    "# Linear SVC\n",
    "print('Training accuracy:', linear_svc.score(X_train_mod, y_train))\n",
    "print('Test accuracy:', linear_svc.score(X_test_mod, y_test))\n",
    "#RBF SVC\n",
    "print('Training accuracy:', rbf_svc.score(X_train_mod, y_train))\n",
    "print('Test accuracy:', rbf_svc.score(X_test_mod, y_test))"
   ]
  },
  {
   "cell_type": "code",
   "execution_count": null,
   "metadata": {
    "collapsed": true
   },
   "outputs": [],
   "source": [
    "predict = linear_svc.predict(df_test_mod)\n",
    "result = pd.DataFrame(predict, columns=([\"Active_Customer\"]), index = df_test[\"Cust_id\"])\n",
    "result.to_csv(\"submission_26.csv\") #0."
   ]
  },
  {
   "cell_type": "code",
   "execution_count": null,
   "metadata": {
    "collapsed": true
   },
   "outputs": [],
   "source": [
    "predict = linear_svc.predict(df_test_mod)\n",
    "result = pd.DataFrame(predict, columns=([\"Active_Customer\"]), index = df_test[\"Cust_id\"])\n",
    "result.to_csv(\"submission_27.csv\") #0."
   ]
  },
  {
   "cell_type": "code",
   "execution_count": null,
   "metadata": {
    "collapsed": true
   },
   "outputs": [],
   "source": [
    "poly_svc = svm.SVC(kernel = 'poly')\n",
    "sigmoid_svc = svm.SVC(kernel = 'sigmoid')"
   ]
  },
  {
   "cell_type": "code",
   "execution_count": null,
   "metadata": {
    "collapsed": true
   },
   "outputs": [],
   "source": [
    "poly_svc = poly_svc.fit(X_train_mod, y_train)\n",
    "sigmoid_svc = sigmoid_svc.fit(X_train_mod, y_train)"
   ]
  },
  {
   "cell_type": "code",
   "execution_count": null,
   "metadata": {
    "collapsed": true
   },
   "outputs": [],
   "source": [
    "# Plynomial SVC\n",
    "print('Training accuracy:', poly_svc.score(X_train_mod, y_train))\n",
    "print('Test accuracy:', poly_svc.score(X_test_mod, y_test))\n",
    "#Sigmoid SVC\n",
    "print('Training accuracy:', sigmoid_svc.score(X_train_mod, y_train))\n",
    "print('Test accuracy:', sigmoid_svc.score(X_test_mod, y_test))"
   ]
  },
  {
   "cell_type": "code",
   "execution_count": null,
   "metadata": {
    "collapsed": true
   },
   "outputs": [],
   "source": [
    "predict = poly_svc.predict(df_test_mod)\n",
    "result = pd.DataFrame(predict, columns=([\"Active_Customer\"]), index = df_test[\"Cust_id\"])\n",
    "result.to_csv(\"submission_28.csv\") #0."
   ]
  },
  {
   "cell_type": "code",
   "execution_count": null,
   "metadata": {
    "collapsed": true
   },
   "outputs": [],
   "source": [
    "predict = sigmoid_svc.predict(df_test_mod)\n",
    "result = pd.DataFrame(predict, columns=([\"Active_Customer\"]), index = df_test[\"Cust_id\"])\n",
    "result.to_csv(\"submission_29.csv\") #0."
   ]
  },
  {
   "cell_type": "code",
   "execution_count": 19,
   "metadata": {
    "collapsed": false
   },
   "outputs": [],
   "source": [
    "from sklearn import svm\n",
    "lin_clf = svm.LinearSVC()"
   ]
  },
  {
   "cell_type": "code",
   "execution_count": 20,
   "metadata": {
    "collapsed": true
   },
   "outputs": [],
   "source": [
    "lin_clf = lin_clf.fit(X_train_mod, y_train)"
   ]
  },
  {
   "cell_type": "code",
   "execution_count": 21,
   "metadata": {
    "collapsed": false
   },
   "outputs": [
    {
     "name": "stdout",
     "output_type": "stream",
     "text": [
      "Training accuracy: 0.600964737192\n",
      "Test accuracy: 0.594437257439\n"
     ]
    }
   ],
   "source": [
    "# Linear SVC\n",
    "print('Training accuracy:', lin_clf.score(X_train_mod, y_train))\n",
    "print('Test accuracy:', lin_clf.score(X_test_mod, y_test))"
   ]
  },
  {
   "cell_type": "code",
   "execution_count": 22,
   "metadata": {
    "collapsed": true
   },
   "outputs": [],
   "source": [
    "predict = lin_clf.predict(df_test_mod)\n",
    "result = pd.DataFrame(predict, columns=([\"Active_Customer\"]), index = df_test[\"Cust_id\"])\n",
    "result.to_csv(\"submission_26.csv\") #0.554348"
   ]
  },
  {
   "cell_type": "markdown",
   "metadata": {
    "collapsed": true
   },
   "source": [
    "### Gradient Descent Boosting"
   ]
  },
  {
   "cell_type": "code",
   "execution_count": 60,
   "metadata": {
    "collapsed": true
   },
   "outputs": [],
   "source": [
    "from sklearn.ensemble import GradientBoostingClassifier\n",
    "gbc1 = GradientBoostingClassifier(n_estimators=200, learning_rate=0.15, max_depth=3, loss = 'deviance' , random_state=42)"
   ]
  },
  {
   "cell_type": "code",
   "execution_count": 61,
   "metadata": {
    "collapsed": true
   },
   "outputs": [],
   "source": [
    "gbc1 = gbc.fit(X_train_std, y_train)"
   ]
  },
  {
   "cell_type": "code",
   "execution_count": 62,
   "metadata": {
    "collapsed": false
   },
   "outputs": [
    {
     "name": "stdout",
     "output_type": "stream",
     "text": [
      "Training accuracy: 0.694388999778\n",
      "Test accuracy: 0.668175937904\n"
     ]
    }
   ],
   "source": [
    "# GBC - Gradient Boosting Classfier\n",
    "print('Training accuracy:', gbc1.score(X_train_std, y_train))\n",
    "print('Test accuracy:', gbc1.score(X_test_std, y_test))"
   ]
  },
  {
   "cell_type": "code",
   "execution_count": 59,
   "metadata": {
    "collapsed": true
   },
   "outputs": [],
   "source": [
    "predict = gbc1.predict(df_test_std)\n",
    "result = pd.DataFrame(predict, columns=([\"Active_Customer\"]), index = df_test[\"Cust_id\"])\n",
    "result.to_csv(\"submission_105.csv\") #0."
   ]
  },
  {
   "cell_type": "markdown",
   "metadata": {},
   "source": [
    "### Final Model"
   ]
  },
  {
   "cell_type": "code",
   "execution_count": null,
   "metadata": {
    "collapsed": true
   },
   "outputs": [],
   "source": [
    "# Gradient Descent Boosting \n",
    "gbc1 = GradientBoostingClassifier(loss='deviance', learning_rate=0.135, n_estimators=210, \n",
    "                                   subsample=0.80, min_samples_split=2, min_samples_leaf=1, \n",
    "                                   min_weight_fraction_leaf=0.0, max_depth=2, init=None, \n",
    "                                   random_state=50, max_features=None, verbose=1, \n",
    "                                   max_leaf_nodes=None, warm_start=False, presort='auto')\n",
    "gbc1 = gbc.fit(X_train_std, y_train)\n",
    "# GBC - Gradient Boosting Classfier\n",
    "print('Training accuracy:', gbc1.score(X_train_std, y_train))\n",
    "print('Test accuracy:', gbc1.score(X_test_std, y_test))\n",
    "\n",
    "predict = gbc1.predict(df_test_std)\n",
    "\n",
    "#writing to csv\n",
    "result = pd.DataFrame(predict, columns=([\"Active_Customer\"]), index = test[\"Cust_id\"])\n",
    "result.to_csv(\"submission_135.csv\")"
   ]
  }
 ],
 "metadata": {
  "kernelspec": {
   "display_name": "Python 3",
   "language": "python",
   "name": "python3"
  },
  "language_info": {
   "codemirror_mode": {
    "name": "ipython",
    "version": 3
   },
   "file_extension": ".py",
   "mimetype": "text/x-python",
   "name": "python",
   "nbconvert_exporter": "python",
   "pygments_lexer": "ipython3",
   "version": "3.5.1"
  }
 },
 "nbformat": 4,
 "nbformat_minor": 0
}
